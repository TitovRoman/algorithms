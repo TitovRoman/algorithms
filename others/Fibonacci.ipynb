{
 "cells": [
  {
   "cell_type": "code",
   "execution_count": 103,
   "metadata": {
    "pycharm": {
     "is_executing": false,
     "name": "#%%\n"
    }
   },
   "outputs": [
    {
     "name": "stdout",
     "output_type": "stream",
     "text": [
      "qwe\n",
      "6765\n"
     ]
    }
   ],
   "source": [
    "def fib1(n):\n",
    "    assert n >= 0\n",
    "    return n if n < 2 else fib1(n-1) + fib1(n-2)\n",
    "print(\"qwe\")\n",
    "print(fib1(20))\n",
    "\n",
    "old_fib1 = fib1"
   ]
  },
  {
   "cell_type": "code",
   "execution_count": 1,
   "metadata": {
    "pycharm": {
     "is_executing": false,
     "name": "#%%\n"
    }
   },
   "outputs": [
    {
     "name": "stdout",
     "text": [
      "21\n"
     ],
     "output_type": "stream"
    }
   ],
   "source": [
    "\n",
    "cache = {}\n",
    "\n",
    "def fib2(n):\n",
    "    assert n >= 0\n",
    "    \n",
    "    if n not in cache:\n",
    "        cache[n] = n if n < 2 else fib2(n-1) + fib2(n - 2)\n",
    "    return cache[n]\n",
    "\n",
    "print(fib2(8))\n"
   ]
  },
  {
   "cell_type": "code",
   "execution_count": 105,
   "metadata": {
    "pycharm": {
     "is_executing": false,
     "name": "#%%\n"
    }
   },
   "outputs": [
    {
     "data": {
      "text/plain": [
       "75025"
      ]
     },
     "execution_count": 105,
     "metadata": {},
     "output_type": "execute_result"
    }
   ],
   "source": [
    "\n",
    "def memo(f):\n",
    "    cache = {}\n",
    "    def fun(n):\n",
    "        if n not in cache:\n",
    "            cache[n] = f(n)\n",
    "        return cache[n]\n",
    "    return fun\n",
    "\n",
    "fib1 = memo(fib1)\n",
    "fib1(25)\n",
    "\n"
   ]
  },
  {
   "cell_type": "code",
   "execution_count": 88,
   "metadata": {
    "pycharm": {
     "is_executing": false,
     "name": "#%%\n"
    }
   },
   "outputs": [
    {
     "name": "stdout",
     "output_type": "stream",
     "text": [
      "0\n",
      "21\n",
      "75025\n",
      "55\n",
      "48558529144435440119720805669229197641\n"
     ]
    }
   ],
   "source": [
    "def fib3(n):\n",
    "    assert n >= 0\n",
    "    if n < 2:\n",
    "        return n\n",
    "    prev = 0;\n",
    "    curr = 1;\n",
    "    for i in range(1, n):\n",
    "        prev, curr = curr, prev + curr\n",
    "    return curr"
   ]
  },
  {
   "cell_type": "code",
   "execution_count": 102,
   "metadata": {
    "pycharm": {
     "is_executing": false,
     "name": "#%%\n"
    }
   },
   "outputs": [
    {
     "data": {
      "image/png": "[encoded data removed]",
      "text/plain": [
       "<Figure size 432x288 with 1 Axes>"
      ]
     },
     "metadata": {
      "needs_background": "light"
     },
     "output_type": "display_data"
    }
   ],
   "source": [
    "import utilitys as ut\n",
    "\n",
    "def fib4(n):\n",
    "    assert n >= 0\n",
    "    return n if n < 2 else fib4(n-1) + fib4(n-2)\n",
    "\n",
    "ut.compare([fib1, fib3], list(range(200)), n_iter=1)\n"
   ]
  }
 ],
 "metadata": {
  "kernelspec": {
   "display_name": "Python 3",
   "language": "python",
   "name": "python3"
  },
  "language_info": {
   "codemirror_mode": {
    "name": "ipython",
    "version": 3
   },
   "file_extension": ".py",
   "mimetype": "text/x-python",
   "name": "python",
   "nbconvert_exporter": "python",
   "pygments_lexer": "ipython3",
   "version": "3.8.5"
  },
  "pycharm": {
   "stem_cell": {
    "cell_type": "raw",
    "metadata": {
     "collapsed": false
    },
    "source": []
   }
  }
 },
 "nbformat": 4,
 "nbformat_minor": 1
}