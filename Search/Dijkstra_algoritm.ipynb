{
 "cells": [
  {
   "cell_type": "code",
   "execution_count": 19,
   "metadata": {
    "collapsed": true,
    "pycharm": {
     "is_executing": false
    }
   },
   "outputs": [],
   "source": [
    "graph = {}\n",
    "graph[\"start\"] = {\"a\" : 5, \"b\" : 2}\n",
    "graph[\"a\"] = {\"c\" : 4, \"d\" : 2}\n",
    "graph[\"b\"] = {\"a\" : 8, \"d\" : 7}\n",
    "graph[\"c\"] = {\"d\" : 6, \"fin\" : 3}\n",
    "graph[\"d\"] = {\"fin\" : 1}\n",
    "graph[\"fin\"] = {}\n",
    "\n"
   ]
  },
  {
   "cell_type": "code",
   "execution_count": 20,
   "outputs": [
    {
     "name": "stdout",
     "text": [
      "Cost = 8\nPath = ['fin', 'd', 'a', 'start']\n"
     ],
     "output_type": "stream"
    }
   ],
   "source": [
    "def find_lower_coat_node(costs, processed):\n",
    "    min_cost = float(\"Inf\")\n",
    "    min_node = None\n",
    "    for node,cost in costs.items():\n",
    "        if node not in processed:\n",
    "            if cost < min_cost:\n",
    "                min_cost = cost\n",
    "                min_node = node\n",
    "    return min_node\n",
    "\n",
    "def get_path(parents, start, finish):\n",
    "    path = [finish]\n",
    "    parent = finish\n",
    "    while True:\n",
    "        parent = parents[parent]\n",
    "        path.append(parent)\n",
    "        if parent == start:\n",
    "            break\n",
    "    return path \n",
    "\n",
    "def dijkstra_algoritm(graph, start, finish):\n",
    "    costs = { v : float('Inf') for v in graph}\n",
    "    costs[start] = 0\n",
    "    parents = { v : None for v in graph}\n",
    "    processed = set()\n",
    "    \n",
    "    while node := find_lower_coat_node(costs, processed):\n",
    "        current_cost = costs[node]\n",
    "        for child_node, cost in graph[node].items():\n",
    "            if current_cost + cost < costs[child_node]:\n",
    "                costs[child_node] = current_cost+cost\n",
    "                parents[child_node] = node\n",
    "        processed.add(node)\n",
    "        \n",
    "    \n",
    "    \n",
    "    print(f\"Cost = {costs[finish]}\\n\"\n",
    "          f\"Path = {get_path(parents, start, finish)}\")\n",
    "\n",
    "dijkstra_algoritm(graph, \"start\", \"fin\")\n",
    "            "
   ],
   "metadata": {
    "collapsed": false,
    "pycharm": {
     "name": "#%%\n",
     "is_executing": false
    }
   }
  }
 ],
 "metadata": {
  "kernelspec": {
   "display_name": "Python 3",
   "language": "python",
   "name": "python3"
  },
  "language_info": {
   "codemirror_mode": {
    "name": "ipython",
    "version": 2
   },
   "file_extension": ".py",
   "mimetype": "text/x-python",
   "name": "python",
   "nbconvert_exporter": "python",
   "pygments_lexer": "ipython2",
   "version": "2.7.6"
  },
  "pycharm": {
   "stem_cell": {
    "cell_type": "raw",
    "source": [],
    "metadata": {
     "collapsed": false
    }
   }
  }
 },
 "nbformat": 4,
 "nbformat_minor": 0
}