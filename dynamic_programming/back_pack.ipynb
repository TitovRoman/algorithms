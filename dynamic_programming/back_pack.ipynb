{
 "cells": [
  {
   "cell_type": "code",
   "execution_count": 129,
   "metadata": {
    "collapsed": true,
    "pycharm": {
     "is_executing": false
    }
   },
   "outputs": [],
   "source": [
    "import pprint\n",
    "def pack(objects, *args, total_weight, gcd=1):\n",
    "    cnt_row = int(total_weight//gcd) + 1\n",
    "    table = [[0 for _ in range(cnt_row)] for _ in range(len(objects)+1)]\n",
    "    name_table = [[[] for _ in range(cnt_row)] for _ in range(len(objects)+1)]\n",
    "    keys = [\"\"] + list(objects.keys())\n",
    "    \n",
    "    for i in range(1, len(objects) + 1):\n",
    "        (w, c) = objects[keys[i]]\n",
    "        w_row = int(w/gcd)\n",
    "        for j in range(1, w_row):\n",
    "            table[i][j] = table[i-1][j]\n",
    "            name_table[i][j] = name_table[i-1][j]\n",
    "        for j in range(w_row, cnt_row):\n",
    "            current_cost = c + (table[i-1][j-w_row] if j-w_row > 0 else 0)\n",
    "            names = [keys[i]] + (name_table[i-1][j-w_row] if j-w_row > 0 else [])\n",
    "            \n",
    "            if table[i-1][j] >= current_cost:\n",
    "                table[i][j] = table[i-1][j]\n",
    "                name_table[i][j] = name_table[i-1][j]\n",
    "            else:\n",
    "                table[i][j] = current_cost\n",
    "                name_table[i][j] = names\n",
    "    \n",
    "    print(name_table[-1][-1])\n",
    "    print(table[-1][-1])\n",
    "                "
   ]
  },
  {
   "cell_type": "code",
   "execution_count": 130,
   "outputs": [
    {
     "name": "stdout",
     "text": [
      "['camera', 'eat', 'water']\n25\n"
     ],
     "output_type": "stream"
    }
   ],
   "source": [
    "objects = {\n",
    "    \"water\" : (3, 10),\n",
    "    \"book\" : (1, 3),\n",
    "    \"eat\" : (2, 9),\n",
    "    \"jacket\" : (2, 5),\n",
    "    \"camera\" : (1, 6)}\n",
    "\n",
    "pack(objects, total_weight=6, gcd=1)"
   ],
   "metadata": {
    "collapsed": false,
    "pycharm": {
     "name": "#%%\n",
     "is_executing": false
    }
   }
  },
  {
   "cell_type": "code",
   "execution_count": 131,
   "outputs": [
    {
     "name": "stdout",
     "text": [
      "['s', 'n', 'w']\n24\n"
     ],
     "output_type": "stream"
    }
   ],
   "source": [
    "objects = {\n",
    "    \"w\" : (1/2, 7),\n",
    "    \"t\" : (1/2, 6),\n",
    "    \"n\" : (1, 9),\n",
    "    \"b\" : (2, 9),\n",
    "    \"s\" : (1/2, 8)}\n",
    "\n",
    "pack(objects, total_weight=2, gcd=1/2)\n"
   ],
   "metadata": {
    "collapsed": false,
    "pycharm": {
     "name": "#%%\n",
     "is_executing": false
    }
   }
  }
 ],
 "metadata": {
  "kernelspec": {
   "display_name": "Python 3",
   "language": "python",
   "name": "python3"
  },
  "language_info": {
   "codemirror_mode": {
    "name": "ipython",
    "version": 2
   },
   "file_extension": ".py",
   "mimetype": "text/x-python",
   "name": "python",
   "nbconvert_exporter": "python",
   "pygments_lexer": "ipython2",
   "version": "2.7.6"
  },
  "pycharm": {
   "stem_cell": {
    "cell_type": "raw",
    "source": [],
    "metadata": {
     "collapsed": false
    }
   }
  }
 },
 "nbformat": 4,
 "nbformat_minor": 0
}